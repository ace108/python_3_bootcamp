{
 "cells": [
  {
   "cell_type": "markdown",
   "metadata": {},
   "source": [
    "___\n",
    "\n",
    "<a href='https://www.udemy.com/user/joseportilla/'><img src='../Pierian_Data_Logo.png'/></a>\n",
    "___\n",
    "<center><em>Content Copyright by Pierian Data</em></center>"
   ]
  },
  {
   "cell_type": "markdown",
   "metadata": {},
   "source": [
    "# Milestone Project 1: Walkthrough Steps Workbook\n",
    "\n",
    "Below is a set of steps for you to follow to try to create the Tic Tac Toe Milestone Project game!"
   ]
  },
  {
   "cell_type": "markdown",
   "metadata": {},
   "source": [
    "#### Some suggested tools before you get started:\n",
    "To take input from a user:\n",
    "\n",
    "    player1 = input(\"Please pick a marker 'X' or 'O'\")\n",
    "    \n",
    "Note that input() takes in a string. If you need an integer value, use\n",
    "\n",
    "    position = int(input('Please enter a number'))\n",
    "    \n",
    "<br>To clear the screen between moves:\n",
    "\n",
    "    from IPython.display import clear_output\n",
    "    clear_output()\n",
    "    \n",
    "Note that clear_output() will only work in jupyter. To clear the screen in other IDEs, consider:\n",
    "\n",
    "    print('\\n'*100)\n",
    "    \n",
    "This scrolls the previous board up out of view. Now on to the program!"
   ]
  },
  {
   "cell_type": "markdown",
   "metadata": {},
   "source": [
    "**Step 1: Write a function that can print out a board. Set up your board as a list, where each index 1-9 corresponds with a number on a number pad, so you get a 3 by 3 board representation.**"
   ]
  },
  {
   "cell_type": "code",
   "execution_count": 122,
   "metadata": {},
   "outputs": [],
   "source": [
    "from IPython.display import clear_output\n",
    "\n",
    "def display_board(board):\n",
    "    clear_output()\n",
    "    print('-'*13)\n",
    "    print('| '+board[7]+' | '+board[8]+' | '+board[9]+' |')\n",
    "    print('-'*13)\n",
    "    print('| '+board[4]+' | '+board[5]+' | '+board[6]+' |')\n",
    "    print('-'*13)\n",
    "    print('| '+board[1]+' | '+board[2]+' | '+board[3]+' |')\n",
    "    print('-'*13)\n"
   ]
  },
  {
   "cell_type": "markdown",
   "metadata": {},
   "source": [
    "**TEST Step 1:** run your function on a test version of the board list, and make adjustments as necessary"
   ]
  },
  {
   "cell_type": "code",
   "execution_count": 124,
   "metadata": {},
   "outputs": [
    {
     "name": "stdout",
     "output_type": "stream",
     "text": [
      "-------------\n",
      "| X | O | X |\n",
      "-------------\n",
      "| O | X | O |\n",
      "-------------\n",
      "| X | O | X |\n",
      "-------------\n"
     ]
    }
   ],
   "source": [
    " test_board = ['#','X','O','X','O','X','O','X','O','X']\n",
    "display_board(test_board)\n",
    "xo = ['X', 'O']"
   ]
  },
  {
   "cell_type": "markdown",
   "metadata": {},
   "source": [
    "**Step 2: Write a function that can take in a player input and assign their marker as 'X' or 'O'. Think about using *while* loops to continually ask until you get a correct answer.**"
   ]
  },
  {
   "cell_type": "code",
   "execution_count": 125,
   "metadata": {},
   "outputs": [],
   "source": [
    "def player_input():\n",
    "    marker = ''\n",
    "    # Keep asking P1 to choose X or O\n",
    "    while marker not in xo:\n",
    "        marker = input('Player 1, chose X or O: ').upper()\n",
    "    p1 = marker\n",
    "    if p1=='X': \n",
    "        p2='O'\n",
    "    else: \n",
    "        p2='X'\n",
    "    return(p1,p2)"
   ]
  },
  {
   "cell_type": "markdown",
   "metadata": {},
   "source": [
    "**TEST Step 2:** run the function to make sure it returns the desired output"
   ]
  },
  {
   "cell_type": "code",
   "execution_count": 126,
   "metadata": {},
   "outputs": [
    {
     "name": "stdout",
     "output_type": "stream",
     "text": [
      "Player 1, chose X or O: X\n",
      "X O\n"
     ]
    }
   ],
   "source": [
    "p1_marker, p2_marker = player_input()\n",
    "print(p1_marker, p2_marker)"
   ]
  },
  {
   "cell_type": "markdown",
   "metadata": {},
   "source": [
    "**Step 3: Write a function that takes in the board list object, a marker ('X' or 'O'), and a desired position (number 1-9) and assigns it to the board.**"
   ]
  },
  {
   "cell_type": "code",
   "execution_count": 52,
   "metadata": {},
   "outputs": [],
   "source": [
    "def place_marker(board, marker, position):\n",
    "    board[position]=marker"
   ]
  },
  {
   "cell_type": "markdown",
   "metadata": {},
   "source": [
    "**TEST Step 3:** run the place marker function using test parameters and display the modified board"
   ]
  },
  {
   "cell_type": "code",
   "execution_count": 127,
   "metadata": {},
   "outputs": [
    {
     "name": "stdout",
     "output_type": "stream",
     "text": [
      "-------------\n",
      "| X | $ | X |\n",
      "-------------\n",
      "| O | X | O |\n",
      "-------------\n",
      "| X | O | X |\n",
      "-------------\n"
     ]
    }
   ],
   "source": [
    "place_marker(test_board,'$',8)\n",
    "display_board(test_board)"
   ]
  },
  {
   "cell_type": "markdown",
   "metadata": {},
   "source": [
    "**Step 4: Write a function that takes in a board and a mark (X or O) and then checks to see if that mark has won. **"
   ]
  },
  {
   "cell_type": "code",
   "execution_count": 130,
   "metadata": {},
   "outputs": [],
   "source": [
    "def win_check(board, mark):\n",
    "    test_board = ['#', 'a', 'b', 'c', 'd', 'e', 'f', 'g', 'h', 'i']\n",
    "    # ttt print(test_board)\n",
    "    if ((board[7]==board[8]==board[9]==mark) or # r1\n",
    "        (board[4]==board[5]==board[6]==mark) or # r2\n",
    "        (board[1]==board[2]==board[3]==mark) or # r3\n",
    "        (board[7]==board[4]==board[1]==mark) or # c1\n",
    "        (board[8]==board[5]==board[2]==mark) or # c2\n",
    "        (board[9]==board[6]==board[3]==mark) or # c3\n",
    "        (board[1]==board[5]==board[9]==mark) or  # diagonal up\n",
    "        (board[3]==board[5]==board[7]==mark)    # diagonal down\n",
    "       ):\n",
    "        win = True\n",
    "    else: \n",
    "        win = False\n",
    "    return win"
   ]
  },
  {
   "cell_type": "markdown",
   "metadata": {},
   "source": [
    "**TEST Step 4:** run the win_check function against our test_board - it should return True"
   ]
  },
  {
   "cell_type": "code",
   "execution_count": 131,
   "metadata": {},
   "outputs": [
    {
     "data": {
      "text/plain": [
       "True"
      ]
     },
     "execution_count": 131,
     "metadata": {},
     "output_type": "execute_result"
    }
   ],
   "source": [
    "win_check(test_board,'X')"
   ]
  },
  {
   "cell_type": "markdown",
   "metadata": {},
   "source": [
    "**Step 5: Write a function that uses the random module to randomly decide which player goes first. You may want to lookup random.randint() Return a string of which player went first.**"
   ]
  },
  {
   "cell_type": "code",
   "execution_count": 132,
   "metadata": {},
   "outputs": [],
   "source": [
    "import random\n",
    "\n",
    "def choose_first():\n",
    "    return(random.randint(1,2))\n"
   ]
  },
  {
   "cell_type": "code",
   "execution_count": 133,
   "metadata": {},
   "outputs": [
    {
     "data": {
      "text/plain": [
       "1"
      ]
     },
     "execution_count": 133,
     "metadata": {},
     "output_type": "execute_result"
    }
   ],
   "source": [
    "choose_first()"
   ]
  },
  {
   "cell_type": "markdown",
   "metadata": {},
   "source": [
    "**Step 6: Write a function that returns a boolean indicating whether a space on the board is freely available.**"
   ]
  },
  {
   "cell_type": "code",
   "execution_count": 134,
   "metadata": {},
   "outputs": [],
   "source": [
    "def space_check(board, position):\n",
    "    # print(f'POSITION IS {board[position]}')  \n",
    "    if board[position] in xo:\n",
    "        return False # position is taken; no space\n",
    "    else: return True"
   ]
  },
  {
   "cell_type": "code",
   "execution_count": 135,
   "metadata": {},
   "outputs": [
    {
     "data": {
      "text/plain": [
       "['#', 'X', 'O', 'X', 'O', 'X', 'O', 'X', '$', 'X']"
      ]
     },
     "metadata": {},
     "output_type": "display_data"
    },
    {
     "data": {
      "text/plain": [
       "True"
      ]
     },
     "execution_count": 135,
     "metadata": {},
     "output_type": "execute_result"
    }
   ],
   "source": [
    "display(test_board)\n",
    "space_check(test_board, 8)"
   ]
  },
  {
   "cell_type": "markdown",
   "metadata": {},
   "source": [
    "**Step 7: Write a function that checks if the board is full and returns a boolean value. True if full, False otherwise.**"
   ]
  },
  {
   "cell_type": "code",
   "execution_count": 167,
   "metadata": {},
   "outputs": [],
   "source": [
    "def full_board_check(board):\n",
    "    # 1st solution\n",
    "    '''\n",
    "    fullboard = True # assume full\n",
    "    for i in range(1,10):\n",
    "        fullboard = fullboard and (board[i] in xo) # if not 'X' and not 'O', then is not taken\n",
    "    return fullboard\n",
    "    '''\n",
    "    # 2nd option\n",
    "    return (board.count('X')+board.count('O'))==9"
   ]
  },
  {
   "cell_type": "markdown",
   "metadata": {},
   "source": [
    "**Step 8: Write a function that asks for a player's next position (as a number 1-9) and then uses the function from step 6 to check if it's a free position. If it is, then return the position for later use.**"
   ]
  },
  {
   "cell_type": "code",
   "execution_count": 145,
   "metadata": {},
   "outputs": [],
   "source": [
    "def player_choice(board):\n",
    "    right_choice = False\n",
    "    while not(right_choice):\n",
    "        str_choice = input(f'Please selection position (1-9):')\n",
    "        try:\n",
    "            position_choice = int(str_choice)\n",
    "            if (position_choice>=1) and (position_choice<=9):\n",
    "                right_choice = space_check(board, position_choice)\n",
    "            else: \n",
    "                print('out')\n",
    "                right_choice = False\n",
    "        except:\n",
    "            right_choice = False\n",
    "    return(position_choice)\n",
    "    "
   ]
  },
  {
   "cell_type": "code",
   "execution_count": 138,
   "metadata": {},
   "outputs": [],
   "source": [
    "# player_choice(test_board)"
   ]
  },
  {
   "cell_type": "markdown",
   "metadata": {},
   "source": [
    "**Step 9: Write a function that asks the player if they want to play again and returns a boolean True if they do want to play again.**"
   ]
  },
  {
   "cell_type": "code",
   "execution_count": 139,
   "metadata": {},
   "outputs": [],
   "source": [
    "def replay():\n",
    "    choice = 'X'\n",
    "    while choice not in ['Y', 'N']:\n",
    "        choice = input ('Keep playing? (Y or N): ').upper()\n",
    "        if choice not in ['Y', 'N']:\n",
    "            print('Sorry, I do not understand, place choose Y or N')\n",
    "    if choice == 'Y': \n",
    "        return True\n",
    "    else: \n",
    "        return False    \n",
    "    pass"
   ]
  },
  {
   "cell_type": "code",
   "execution_count": 140,
   "metadata": {},
   "outputs": [
    {
     "name": "stdout",
     "output_type": "stream",
     "text": [
      "Keep playing? (Y or N): y\n"
     ]
    },
    {
     "data": {
      "text/plain": [
       "True"
      ]
     },
     "execution_count": 140,
     "metadata": {},
     "output_type": "execute_result"
    }
   ],
   "source": [
    "replay()"
   ]
  },
  {
   "cell_type": "code",
   "execution_count": 141,
   "metadata": {},
   "outputs": [
    {
     "data": {
      "text/plain": [
       "2"
      ]
     },
     "execution_count": 141,
     "metadata": {},
     "output_type": "execute_result"
    }
   ],
   "source": [
    "choose_first()"
   ]
  },
  {
   "cell_type": "markdown",
   "metadata": {
    "collapsed": true
   },
   "source": [
    "**Step 10: Here comes the hard part! Use while loops and the functions you've made to run the game!**"
   ]
  },
  {
   "cell_type": "code",
   "execution_count": 148,
   "metadata": {},
   "outputs": [
    {
     "name": "stdout",
     "output_type": "stream",
     "text": [
      "-------------\n",
      "| O | O | O |\n",
      "-------------\n",
      "| X | O | X |\n",
      "-------------\n",
      "| X | X | O |\n",
      "-------------\n",
      "Player 2 puts O in position 7\n",
      "======================================\n",
      "Congratulations! Player 2, you have won the game!\n",
      "======================================\n",
      "Keep playing? (Y or N): n\n"
     ]
    }
   ],
   "source": [
    "print('Welcome to Tic Tac Toe!\\n')\n",
    "xo = ['X', 'O']\n",
    "\n",
    "while True:\n",
    "    # Set the game up here\n",
    "    p1_marker, p2_marker = player_input()\n",
    "    game_on = True\n",
    "    gameboard = ['#'] + [' ']*9\n",
    "\n",
    "    next_p = choose_first() # randomly choose P1 or P2 to start first\n",
    "    display_board(gameboard) # display gameboard\n",
    "    while game_on:\n",
    "        # next_p is next player; select choice\n",
    "        if next_p==1:\n",
    "            print(f'Player {next_p}, place your \"{p1_marker}\"')\n",
    "        else:\n",
    "            print(f'Player {next_p}, place your \"{p2_marker}\"')\n",
    "        p_choice = player_choice(gameboard)\n",
    "        print(f'p_choice = {p_choice}')\n",
    "        if next_p==1:\n",
    "            p_marker = p1_marker\n",
    "        else:\n",
    "            p_marker = p2_marker\n",
    "        gameboard[p_choice] = p_marker\n",
    "\n",
    "        display_board(gameboard) # display gameboard       \n",
    "        print(f'Player {next_p} puts {p_marker} in position {p_choice}')\n",
    "        \n",
    "        if (win_check(gameboard, p_marker)): # check if win\n",
    "            print('='*38)\n",
    "            print(f'Congratulations! Player {next_p}, you have won the game!')\n",
    "            print('='*38)\n",
    "            break\n",
    "        elif (full_board_check(gameboard)):  # check if draw\n",
    "            print(f\"It's a DRAW\")           \n",
    "            break\n",
    "\n",
    "        # change to next player\n",
    "        if next_p==1: next_p=2\n",
    "        else: next_p=1\n",
    "\n",
    "    if not replay():\n",
    "        break"
   ]
  },
  {
   "cell_type": "code",
   "execution_count": 151,
   "metadata": {},
   "outputs": [
    {
     "data": {
      "text/plain": [
       "9"
      ]
     },
     "execution_count": 151,
     "metadata": {},
     "output_type": "execute_result"
    }
   ],
   "source": [
    "(gameboard.count('X')+gameboard.count('O'))==9"
   ]
  },
  {
   "cell_type": "markdown",
   "metadata": {
    "collapsed": true
   },
   "source": [
    "## Good Job!"
   ]
  },
  {
   "cell_type": "markdown",
   "metadata": {},
   "source": [
    "### Reference\n",
    "# Milestone Project Help\n",
    "## Tic Tac Toe Project Helpful Hints\n",
    "\n",
    "In this text lecture we will just have a useful guide for helping you complete the project! Sometimes this project can feel overwhelming, like being thrown into the deep end of the pool and told \"Now learn to swim!\". So to help out with this, here's a guide to help you begin in the right direction! (Note, there's lots of ways to accomplish this task, so your code may look completely different than the given solution). If the hints below still aren't enough, check out the \"Walkthrough Workbook\" notebook for even more help!\n",
    "\n",
    "* First off, make sure you understand the project scope. What needs to happen?\n",
    "\n",
    "\n",
    "1. We need to print a board.\n",
    "2. Take in player input.\n",
    "3. Place their input on the board.\n",
    "4. Check if the game is won,tied, lost, or ongoing.\n",
    "5. Repeat c and d until the game has been won or tied.\n",
    "6. Ask if players want to play again.\n",
    "\n",
    "* Ok so we got a general idea of what we need to do. Let's break it down by steps. If you're having trouble with the project, come and check this lecture if you ever get stuck.\n",
    "\n",
    "## PROJECT HINTS:\n",
    "\n",
    "\n",
    "1. Start by deciding how you will store the player's marker positions (Xs and Os). Let's choose a list, where each index corresponds with a number on a keypad, which in turn corresponds with a position on the 3 by 3 board.\n",
    "2. Create a list called board which will keep track of the player markers.\n",
    "a. The list should already be the same length as your intended board.\n",
    "3. Create a function that will print a board. Not just the list, but an actual representation of a board! This can be done with multiple print statements within the function. Think about how you would take elements from the list and print them out into the board. (You can also clear output in jupyter notebook with clear_output() . You need to import this, so at the top of a cell copy and paste: from IPython.display import clear_output\n",
    "4. Write a function which takes an input marker string 'X' or \"O' and a given number and stores it to a list at that appendix.\n",
    "a. You might have to look up how to take input in python! input()\n",
    "b. Play around with input() to make sure you understand it\n",
    "5. Write a function that takes in the board and a player marker and checks it theres a win or a tie.\n",
    "a. The checking for a win should be a series of a bunch checks, for example: (board[7] == board[8] == board[9] == marker)would check the first top row if they all match a player's marker.\n",
    "6. Check for a tie (this means nobody won and the board list is full!)\n",
    "7. Now begin writing functions that begin game play.\n",
    "8. You'll need to write a function which starts combining and calling the different functions you've made within it.\n",
    "a. For example, a function which asks for a player's move, then updates the board,then checks for a win, then prints out the board.\n",
    "9. How can you keep the game continually going?\n",
    "a. Maybe try using a while loop.\n",
    "b. Something like, while the board isn't full and nobody's won...\n",
    "10. You might want to think about how to use boolean objects as markers of the game's status.\n",
    "11. Alright you should have enough now to begin piecing things together!\n",
    "12. If you're still stuck, try googling around for \"Python Tic Tac Toe\" for ideas of how to put all your pieces and functions together!\n",
    "Great job and remember, this is a milestone project, so its meant to be challenging!\n",
    "\n",
    "\n",
    "\n",
    "### Other things that you may want to implement:\n",
    "\n",
    "1. Taking in a player's input:\n",
    "\n",
    "If you're confused on how to take in a players input, you have to use input() for Python 3, or raw_input() for Python 2.. You can use it in the following manner:\n",
    "\n",
    "board_position = input(\"Please enter a number for the board position choice: \")\n",
    "\n",
    "Then you would see a pop-up occur with a text box asking you for your input. Type in the number and press enter, now the variable board_position is an integer you can use for your code. For more on the differences between raw_input() and input(), check out this answer.\n",
    "\n",
    "2. Checking an input and asking again:\n",
    "\n",
    "In my solution I take into account if a player possibly puts in an incorrect input (like passing a string 'hello' when asked for their board position choice). You can take care of this by using a while loop!\n",
    "\n"
   ]
  }
 ],
 "metadata": {
  "kernelspec": {
   "display_name": "Python 3",
   "language": "python",
   "name": "python3"
  },
  "language_info": {
   "codemirror_mode": {
    "name": "ipython",
    "version": 3
   },
   "file_extension": ".py",
   "mimetype": "text/x-python",
   "name": "python",
   "nbconvert_exporter": "python",
   "pygments_lexer": "ipython3",
   "version": "3.7.9"
  }
 },
 "nbformat": 4,
 "nbformat_minor": 1
}
